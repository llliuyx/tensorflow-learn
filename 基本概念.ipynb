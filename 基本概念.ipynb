{
 "cells": [
  {
   "cell_type": "markdown",
   "metadata": {},
   "source": [
    "# 基本概念"
   ]
  },
  {
   "cell_type": "markdown",
   "metadata": {},
   "source": [
    "### TensorFlow 张量\n",
    "在数学里，张量是一种几何实体，广义上表示任意形式的“数据”。张量可以理解为0阶（rank）标量、1阶向量和2阶矩阵在高维空间上的推广，张量的阶描述它表示数据的最大维度。\n",
    "\n",
    "| 阶      | 数据实体     | python 样例 |\n",
    "| :-----: | :---------: | :----------: |\n",
    "| 0       | 标量         | scalar = 1  |\n",
    "| 1       | 向量         | vector = [1,2,3]|\n",
    "| 2       | 矩阵（数据表）| matrix = [[1,2,3],[4,5,6],[7,8,9]] |\n",
    "| 3       | 数据立方     | tensor = [[[1],[2],[3]], [[1],[2],[3]],[[1],[2],[3]],...]|\n",
    "| 4       | n阶张量      | ... |\n",
    "\n",
    "\n",
    "在 TensorFlow 中，张量（Tensor）表示某种相同类型的多维数组。因此，张量有两个重要属性：\n",
    "1. 数据类型（如浮点型、整整、字符串）\n",
    "- 数组形状（各个维度的大小）\n",
    "\n",
    "TensorFlow中几类特殊的张量及产生方式：\n",
    "1. 常量：不能修改的数据，tf.constant\n",
    "2. 占位符：定义张量各阶中数据长度的数据， tf.placeholder\n",
    "3. 变量：执行操作时可以修改的数据，tf.Variable\n",
    "\n",
    "###### Notes:\n",
    "- 张量是用来表示多维数据的\n",
    "- 张量是执行操作时的输入和输出数据\n",
    "- 用户通过执行操作来创建或计算张量\n",
    "- 张量的形状不一定在编译时确定，可以在运行时通过形状推断计算得出"
   ]
  },
  {
   "cell_type": "markdown",
   "metadata": {},
   "source": [
    "#### 练习"
   ]
  },
  {
   "cell_type": "code",
   "execution_count": 1,
   "metadata": {},
   "outputs": [],
   "source": [
    "import tensorflow as tf"
   ]
  },
  {
   "cell_type": "code",
   "execution_count": 15,
   "metadata": {},
   "outputs": [],
   "source": [
    "# 0 阶张量\n",
    "mammal = tf.Variable(\"Elephant\", tf.string)\n",
    "ignition = tf.Variable(451, tf.int16)\n",
    "floating = tf.Variable(3.14159265359, tf.float64)\n",
    "its_complicated = tf.Variable(12.3 - 4.85j, tf.complex64)"
   ]
  },
  {
   "cell_type": "code",
   "execution_count": 16,
   "metadata": {},
   "outputs": [
    {
     "data": {
      "text/plain": [
       "[<tf.Variable 'Variable_32:0' shape=() dtype=string_ref>,\n",
       " <tf.Variable 'Variable_33:0' shape=() dtype=int32_ref>,\n",
       " <tf.Variable 'Variable_34:0' shape=() dtype=float32_ref>,\n",
       " <tf.Variable 'Variable_35:0' shape=() dtype=complex128_ref>]"
      ]
     },
     "execution_count": 16,
     "metadata": {},
     "output_type": "execute_result"
    }
   ],
   "source": [
    "[mammal, ignition, floating, its_complicated]"
   ]
  },
  {
   "cell_type": "code",
   "execution_count": 17,
   "metadata": {},
   "outputs": [],
   "source": [
    "# 1阶张量\n",
    "mystr = tf.Variable([\"Hello\", \"World\"], tf.string)\n",
    "cool_numbers = tf.Variable([3.14159, 2.71888], tf.float32)\n",
    "first_primes = tf.Variable([2, 3, 5, 7, 9, 11], tf.int32)\n",
    "its_very_complicated = tf.Variable([12.3 - 4.75j, 7.5 - 6.23j], tf.complex64)"
   ]
  },
  {
   "cell_type": "code",
   "execution_count": 18,
   "metadata": {},
   "outputs": [
    {
     "data": {
      "text/plain": [
       "[<tf.Variable 'Variable_36:0' shape=(2,) dtype=string_ref>,\n",
       " <tf.Variable 'Variable_37:0' shape=(2,) dtype=float32_ref>,\n",
       " <tf.Variable 'Variable_38:0' shape=(6,) dtype=int32_ref>,\n",
       " <tf.Variable 'Variable_39:0' shape=(2,) dtype=complex128_ref>]"
      ]
     },
     "execution_count": 18,
     "metadata": {},
     "output_type": "execute_result"
    }
   ],
   "source": [
    "[mystr, cool_numbers, first_primes, its_very_complicated]"
   ]
  },
  {
   "cell_type": "code",
   "execution_count": 33,
   "metadata": {},
   "outputs": [],
   "source": [
    "# 2阶张量\n",
    "mymat = tf.Variable([[7], [11]], tf.int16)\n",
    "myxor = tf.Variable([[False, True], [True, False]], tf.bool)\n",
    "linear_squares = tf.Variable([[4], [9], [16], [25]], tf.int32)\n",
    "squarish_squares = tf.Variable([[4, 9], [16, 25]], tf.int32)\n",
    "rank_of_squares = tf.rank(squarish_squares)\n",
    "mymatC = tf.Variable([[7], [11]], tf.int32)\n",
    "more_squares = tf.Variable([[[4, 9, 1], [1, 2, 3]], [[16, 25, 1], [1, 2, 3]]], tf.int32)"
   ]
  },
  {
   "cell_type": "code",
   "execution_count": 34,
   "metadata": {},
   "outputs": [
    {
     "data": {
      "text/plain": [
       "[<tf.Variable 'Variable_57:0' shape=(2, 1) dtype=int32_ref>,\n",
       " <tf.Variable 'Variable_58:0' shape=(2, 2) dtype=bool_ref>,\n",
       " <tf.Variable 'Variable_59:0' shape=(4, 1) dtype=int32_ref>,\n",
       " <tf.Variable 'Variable_60:0' shape=(2, 2) dtype=int32_ref>,\n",
       " <tf.Tensor 'Rank_3:0' shape=() dtype=int32>,\n",
       " <tf.Variable 'Variable_61:0' shape=(2, 1) dtype=int32_ref>,\n",
       " <tf.Variable 'Variable_62:0' shape=(2, 2, 3) dtype=int32_ref>]"
      ]
     },
     "execution_count": 34,
     "metadata": {},
     "output_type": "execute_result"
    }
   ],
   "source": [
    "[mymat, myxor, linear_squares, squarish_squares, rank_of_squares, mymatC, more_squares]"
   ]
  },
  {
   "cell_type": "code",
   "execution_count": 35,
   "metadata": {},
   "outputs": [],
   "source": [
    "# 4阶张量\n",
    "my_image = tf.zeros([10, 299, 299, 3])"
   ]
  },
  {
   "cell_type": "code",
   "execution_count": 32,
   "metadata": {},
   "outputs": [
    {
     "data": {
      "text/plain": [
       "<tf.Tensor 'zeros:0' shape=(10, 299, 299, 3) dtype=float32>"
      ]
     },
     "execution_count": 32,
     "metadata": {},
     "output_type": "execute_result"
    }
   ],
   "source": [
    "my_image"
   ]
  },
  {
   "cell_type": "markdown",
   "metadata": {},
   "source": [
    "### TensorFlow 变量\n",
    "TensorFlow 变量（Variable）的主要作用是维护特定节点的状态，如深度学习或机器学习的模型参数。\n",
    "\n",
    "tf.Variable 方式是操作，返回值是变量（特殊张量）\n",
    "\n",
    "通过tf.Variable 方法创建的变量，与张量一样可以作为操作的输入和输出，不同之处在于：\n",
    "- 张量的生命周期通常随依赖的计算完成而结束，内存也随即释放\n",
    "- 变量则常驻内存，在每一步训练时不断更新其值，以实现模型参数的更新"
   ]
  },
  {
   "cell_type": "code",
   "execution_count": null,
   "metadata": {},
   "outputs": [],
   "source": []
  }
 ],
 "metadata": {
  "kernelspec": {
   "display_name": "tensorflow-venv",
   "language": "python",
   "name": "tensorflow-venv"
  },
  "language_info": {
   "codemirror_mode": {
    "name": "ipython",
    "version": 3
   },
   "file_extension": ".py",
   "mimetype": "text/x-python",
   "name": "python",
   "nbconvert_exporter": "python",
   "pygments_lexer": "ipython3",
   "version": "3.7.2"
  }
 },
 "nbformat": 4,
 "nbformat_minor": 2
}
